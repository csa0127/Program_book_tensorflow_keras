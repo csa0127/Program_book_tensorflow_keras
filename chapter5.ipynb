{
 "cells": [
  {
   "cell_type": "markdown",
   "metadata": {},
   "source": [
    "### download data"
   ]
  },
  {
   "cell_type": "code",
   "execution_count": 1,
   "metadata": {},
   "outputs": [],
   "source": [
    "import tensorflow as tf\n",
    "from tensorflow.python.keras.datasets import cifar10"
   ]
  },
  {
   "cell_type": "code",
   "execution_count": 4,
   "metadata": {},
   "outputs": [
    {
     "name": "stdout",
     "output_type": "stream",
     "text": [
      "Downloading data from https://www.cs.toronto.edu/~kriz/cifar-10-python.tar.gz\n",
      "170500096/170498071 [==============================]170500096/170498071 [==============================] - 473s 3us/step\n",
      "\n"
     ]
    }
   ],
   "source": [
    "(x_train,y_train),(x_test,y_test) = cifar10.load_data()  ## C:\\Users\\owner\\.keras"
   ]
  },
  {
   "cell_type": "code",
   "execution_count": null,
   "metadata": {},
   "outputs": [],
   "source": []
  },
  {
   "cell_type": "markdown",
   "metadata": {},
   "source": [
    "### display data shape"
   ]
  },
  {
   "cell_type": "code",
   "execution_count": 5,
   "metadata": {},
   "outputs": [
    {
     "name": "stdout",
     "output_type": "stream",
     "text": [
      "x_train.shape: (50000, 32, 32, 3)\n",
      "y_train.shape: (50000, 1)\n",
      "x_test.shape: (10000, 32, 32, 3)\n",
      "y_test.shape: (10000, 1)\n"
     ]
    }
   ],
   "source": [
    "print('x_train.shape:',x_train.shape)\n",
    "print('y_train.shape:',y_train.shape)\n",
    "print('x_test.shape:',x_test.shape)\n",
    "print('y_test.shape:',y_test.shape)"
   ]
  },
  {
   "cell_type": "markdown",
   "metadata": {},
   "source": [
    "### input data scale, 并且输出转换成矩阵"
   ]
  },
  {
   "cell_type": "code",
   "execution_count": 6,
   "metadata": {},
   "outputs": [],
   "source": [
    "from tensorflow.python.keras.utils import to_categorical\n",
    "x_train = x_train/255\n",
    "x_test = x_test/255\n",
    "y_train = to_categorical(y_train,10)\n",
    "y_test = to_categorical(y_test,10)"
   ]
  },
  {
   "cell_type": "markdown",
   "metadata": {},
   "source": [
    "### add 畳み込み層"
   ]
  },
  {
   "cell_type": "code",
   "execution_count": 7,
   "metadata": {},
   "outputs": [],
   "source": [
    "from tensorflow.python.keras.models import Sequential\n",
    "model = Sequential()"
   ]
  },
  {
   "cell_type": "code",
   "execution_count": 8,
   "metadata": {},
   "outputs": [],
   "source": [
    "from tensorflow.python.keras.layers import Conv2D\n",
    "model.add(\n",
    "    Conv2D(\n",
    "        filters = 32,\n",
    "        input_shape=(32,32,3),\n",
    "        kernel_size = (3,3),\n",
    "        strides=(1,1),\n",
    "        padding='same',\n",
    "        activation='relu'\n",
    "    )\n",
    ")\n",
    "model.add(\n",
    "    Conv2D(\n",
    "        filters = 32,\n",
    "        kernel_size = (3,3),\n",
    "        strides=(1,1),\n",
    "        padding='same',\n",
    "        activation='relu'\n",
    "    )\n",
    ")"
   ]
  },
  {
   "cell_type": "markdown",
   "metadata": {},
   "source": [
    "### add プーリング層"
   ]
  },
  {
   "cell_type": "code",
   "execution_count": 9,
   "metadata": {},
   "outputs": [],
   "source": [
    "from tensorflow.python.keras.layers import MaxPooling2D\n",
    "model.add(MaxPooling2D(pool_size=(2,2)))"
   ]
  },
  {
   "cell_type": "markdown",
   "metadata": {},
   "source": [
    "### add ドロップアウトレイヤー"
   ]
  },
  {
   "cell_type": "code",
   "execution_count": 10,
   "metadata": {},
   "outputs": [],
   "source": [
    "from tensorflow.python.keras.layers import Dropout\n",
    "model.add(Dropout(0.25))"
   ]
  },
  {
   "cell_type": "markdown",
   "metadata": {},
   "source": [
    "### add more layer"
   ]
  },
  {
   "cell_type": "code",
   "execution_count": 11,
   "metadata": {},
   "outputs": [],
   "source": [
    "model.add(\n",
    "    Conv2D(\n",
    "        filters = 64,\n",
    "        kernel_size = (3,3),\n",
    "        strides=(1,1),\n",
    "        padding='same',\n",
    "        activation='relu'\n",
    "    )\n",
    ")\n",
    "model.add(\n",
    "    Conv2D(\n",
    "        filters = 64,\n",
    "        kernel_size = (3,3),\n",
    "        strides=(1,1),\n",
    "        padding='same',\n",
    "        activation='relu'\n",
    "    )\n",
    ")\n",
    "model.add(MaxPooling2D(pool_size=(2,2)))\n",
    "model.add(Dropout(0.25))"
   ]
  },
  {
   "cell_type": "markdown",
   "metadata": {},
   "source": [
    "### confirm the pooling layer output"
   ]
  },
  {
   "cell_type": "code",
   "execution_count": 12,
   "metadata": {},
   "outputs": [
    {
     "data": {
      "text/plain": [
       "(None, 8, 8, 64)"
      ]
     },
     "execution_count": 12,
     "metadata": {},
     "output_type": "execute_result"
    }
   ],
   "source": [
    "model.output_shape  ##データ数、縦、横、チャンネル数，4次元"
   ]
  },
  {
   "cell_type": "markdown",
   "metadata": {},
   "source": [
    "### add flatten layer 将输出从4元转换为2元"
   ]
  },
  {
   "cell_type": "code",
   "execution_count": 13,
   "metadata": {},
   "outputs": [
    {
     "data": {
      "text/plain": [
       "(None, 4096)"
      ]
     },
     "execution_count": 13,
     "metadata": {},
     "output_type": "execute_result"
    }
   ],
   "source": [
    "from tensorflow.python.keras.layers import Flatten\n",
    "model.add(Flatten())\n",
    "model.output_shape"
   ]
  },
  {
   "cell_type": "markdown",
   "metadata": {},
   "source": [
    "### add 全結合層"
   ]
  },
  {
   "cell_type": "code",
   "execution_count": 14,
   "metadata": {},
   "outputs": [],
   "source": [
    "from tensorflow.python.keras.layers import Dense\n",
    "model.add(Dense(units=512,activation='relu'))\n",
    "model.add(Dropout(0.5))\n",
    "model.add(Dense(units=10,activation='softmax'))"
   ]
  },
  {
   "cell_type": "markdown",
   "metadata": {},
   "source": [
    "### compile model and training"
   ]
  },
  {
   "cell_type": "code",
   "execution_count": 15,
   "metadata": {},
   "outputs": [
    {
     "name": "stdout",
     "output_type": "stream",
     "text": [
      "WARNING:tensorflow:From D:\\ProgramFiles\\AnaConda3\\envs\\tensorflow\\lib\\site-packages\\tensorflow\\python\\keras\\_impl\\keras\\backend.py:3086: calling reduce_sum (from tensorflow.python.ops.math_ops) with keep_dims is deprecated and will be removed in a future version.\n",
      "Instructions for updating:\n",
      "keep_dims is deprecated, use keepdims instead\n",
      "WARNING:tensorflow:From D:\\ProgramFiles\\AnaConda3\\envs\\tensorflow\\lib\\site-packages\\tensorflow\\python\\keras\\_impl\\keras\\backend.py:1557: calling reduce_mean (from tensorflow.python.ops.math_ops) with keep_dims is deprecated and will be removed in a future version.\n",
      "Instructions for updating:\n",
      "keep_dims is deprecated, use keepdims instead\n",
      "Train on 40000 samples, validate on 10000 samples\n",
      "Epoch 1/20\n",
      "40000/40000 [==============================]40000/40000 [==============================] - 261s 7ms/step - loss: 1.5282 - acc: 0.4425 - val_loss: 1.1179 - val_acc: 0.6031\n",
      "\n",
      "Epoch 2/20\n",
      "40000/40000 [==============================]40000/40000 [==============================] - 276s 7ms/step - loss: 1.1007 - acc: 0.6119 - val_loss: 0.9025 - val_acc: 0.6800\n",
      "\n",
      "Epoch 3/20\n",
      "40000/40000 [==============================]40000/40000 [==============================] - 268s 7ms/step - loss: 0.9437 - acc: 0.6660 - val_loss: 0.8061 - val_acc: 0.7197\n",
      "\n",
      "Epoch 4/20\n",
      "40000/40000 [==============================]40000/40000 [==============================] - 256s 6ms/step - loss: 0.8441 - acc: 0.7027 - val_loss: 0.7843 - val_acc: 0.7254 - ETA: 6s  - ETA: 1s - loss: 0.8443 - acc:\n",
      "\n",
      "Epoch 5/20\n",
      "40000/40000 [==============================]40000/40000 [==============================] - 258s 6ms/step - loss: 0.7684 - acc: 0.7266 - val_loss: 0.7393 - val_acc: 0.7432\n",
      "\n",
      "Epoch 6/20\n",
      "40000/40000 [==============================]40000/40000 [==============================] - 266s 7ms/step - loss: 0.7156 - acc: 0.7460 - val_loss: 0.7038 - val_acc: 0.7528\n",
      "\n",
      "Epoch 7/20\n",
      "40000/40000 [==============================]40000/40000 [==============================] - 277s 7ms/step - loss: 0.6640 - acc: 0.7671 - val_loss: 0.6964 - val_acc: 0.7573========>.] - ETA: 4s - loss: \n",
      "\n",
      "Epoch 8/20\n",
      "40000/40000 [==============================]40000/40000 [==============================] - 258s 6ms/step - loss: 0.6238 - acc: 0.7823 - val_loss: 0.6896 - val_acc: 0.7619\n",
      "\n",
      "Epoch 9/20\n",
      "40000/40000 [==============================]40000/40000 [==============================] - 264s 7ms/step - loss: 0.5867 - acc: 0.7921 - val_loss: 0.6727 - val_acc: 0.7680\n",
      "\n",
      "Epoch 10/20\n",
      "40000/40000 [==============================]40000/40000 [==============================] - 257s 6ms/step - loss: 0.5554 - acc: 0.8034 - val_loss: 0.7043 - val_acc: 0.7613\n",
      "\n",
      "Epoch 11/20\n",
      "40000/40000 [==============================]40000/40000 [==============================] - 273s 7ms/step - loss: 0.5258 - acc: 0.8132 - val_loss: 0.6661 - val_acc: 0.7739000 [===\n",
      "\n",
      "Epoch 12/20\n",
      "40000/40000 [==============================]40000/40000 [==============================] - 266s 7ms/step - loss: 0.5100 - acc: 0.8201 - val_loss: 0.6827 - val_acc: 0.7709\n",
      "\n",
      "Epoch 13/20\n",
      "40000/40000 [==============================]40000/40000 [==============================] - 273s 7ms/step - loss: 0.4905 - acc: 0.8274 - val_loss: 0.6815 - val_acc: 0.7705\n",
      "\n",
      "Epoch 14/20\n",
      "40000/40000 [==============================]40000/40000 [==============================] - 250s 6ms/step - loss: 0.4615 - acc: 0.8380 - val_loss: 0.7171 - val_acc: 0.7680\n",
      "\n",
      "Epoch 15/20\n",
      "40000/40000 [==============================]40000/40000 [==============================] - 253s 6ms/step - loss: 0.4533 - acc: 0.8403 - val_loss: 0.6853 - val_acc: 0.7775\n",
      "\n",
      "Epoch 16/20\n",
      "40000/40000 [==============================]40000/40000 [==============================] - 256s 6ms/step - loss: 0.4368 - acc: 0.8460 - val_loss: 0.7160 - val_acc: 0.7716\n",
      "\n",
      "Epoch 17/20\n",
      "40000/40000 [==============================]40000/40000 [==============================] - 258s 6ms/step - loss: 0.4180 - acc: 0.8543 - val_loss: 0.7131 - val_acc: 0.7774\n",
      "\n",
      "Epoch 18/20\n",
      "40000/40000 [==============================]40000/40000 [==============================] - 277s 7ms/step - loss: 0.4050 - acc: 0.8568 - val_loss: 0.7032 - val_acc: 0.7795\n",
      "\n",
      "Epoch 19/20\n",
      "40000/40000 [==============================]40000/40000 [==============================] - 254s 6ms/step - loss: 0.3908 - acc: 0.8622 - val_loss: 0.6838 - val_acc: 0.7831 - ETA: 5s\n",
      "\n",
      "Epoch 20/20\n",
      "40000/40000 [==============================]40000/40000 [==============================] - 270s 7ms/step - loss: 0.3875 - acc: 0.8639 - val_loss: 0.6863 - val_acc: 0.7837\n",
      "\n"
     ]
    }
   ],
   "source": [
    "from tensorflow.python.keras.callbacks import TensorBoard\n",
    "model.compile(\n",
    "    optimizer = 'adam',\n",
    "    loss='categorical_crossentropy',\n",
    "    metrics = ['accuracy']\n",
    ")\n",
    "tsb = TensorBoard(log_dir='./logs')\n",
    "history_model1 = model.fit(\n",
    "    x_train,\n",
    "    y_train,\n",
    "    batch_size = 32,\n",
    "    epochs=20,\n",
    "    validation_split=0.2,\n",
    "    callbacks=[tsb]\n",
    ")\n"
   ]
  },
  {
   "cell_type": "code",
   "execution_count": 16,
   "metadata": {},
   "outputs": [
    {
     "name": "stdout",
     "output_type": "stream",
     "text": [
      "_________________________________________________________________\n",
      "Layer (type)                 Output Shape              Param #   \n",
      "=================================================================\n",
      "conv2d_1 (Conv2D)            (None, 32, 32, 32)        896       \n",
      "_________________________________________________________________\n",
      "conv2d_2 (Conv2D)            (None, 32, 32, 32)        9248      \n",
      "_________________________________________________________________\n",
      "max_pooling2d_1 (MaxPooling2 (None, 16, 16, 32)        0         \n",
      "_________________________________________________________________\n",
      "dropout_1 (Dropout)          (None, 16, 16, 32)        0         \n",
      "_________________________________________________________________\n",
      "conv2d_3 (Conv2D)            (None, 16, 16, 64)        18496     \n",
      "_________________________________________________________________\n",
      "conv2d_4 (Conv2D)            (None, 16, 16, 64)        36928     \n",
      "_________________________________________________________________\n",
      "max_pooling2d_2 (MaxPooling2 (None, 8, 8, 64)          0         \n",
      "_________________________________________________________________\n",
      "dropout_2 (Dropout)          (None, 8, 8, 64)          0         \n",
      "_________________________________________________________________\n",
      "flatten_1 (Flatten)          (None, 4096)              0         \n",
      "_________________________________________________________________\n",
      "dense_1 (Dense)              (None, 512)               2097664   \n",
      "_________________________________________________________________\n",
      "dropout_3 (Dropout)          (None, 512)               0         \n",
      "_________________________________________________________________\n",
      "dense_2 (Dense)              (None, 10)                5130      \n",
      "=================================================================\n",
      "Total params: 2,168,362\n",
      "Trainable params: 2,168,362\n",
      "Non-trainable params: 0\n",
      "_________________________________________________________________\n"
     ]
    }
   ],
   "source": [
    "model.summary()"
   ]
  },
  {
   "cell_type": "code",
   "execution_count": null,
   "metadata": {},
   "outputs": [],
   "source": []
  }
 ],
 "metadata": {
  "kernelspec": {
   "display_name": "Python 3",
   "language": "python",
   "name": "python3"
  },
  "language_info": {
   "codemirror_mode": {
    "name": "ipython",
    "version": 3
   },
   "file_extension": ".py",
   "mimetype": "text/x-python",
   "name": "python",
   "nbconvert_exporter": "python",
   "pygments_lexer": "ipython3",
   "version": "3.5.6"
  }
 },
 "nbformat": 4,
 "nbformat_minor": 2
}
