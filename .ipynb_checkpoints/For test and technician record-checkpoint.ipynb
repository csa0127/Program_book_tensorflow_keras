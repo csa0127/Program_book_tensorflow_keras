{
 "cells": [
  {
   "cell_type": "markdown",
   "metadata": {},
   "source": [
    "### tensorflow version"
   ]
  },
  {
   "cell_type": "code",
   "execution_count": 6,
   "metadata": {},
   "outputs": [
    {
     "name": "stdout",
     "output_type": "stream",
     "text": [
      "1.5.0\n"
     ]
    }
   ],
   "source": [
    "import tensorflow as tf\n",
    "print (tf.__version__)"
   ]
  },
  {
   "cell_type": "markdown",
   "metadata": {},
   "source": [
    "##### with ... as ... 用法 \n",
    "##### 类似于try...except...finally,但是更简洁，更保险，每次都有enter和exit来保护。\n",
    "##### 需要退出的时候，在exit函数里do something就可以了"
   ]
  },
  {
   "cell_type": "code",
   "execution_count": 9,
   "metadata": {},
   "outputs": [],
   "source": [
    "class Sample:\n",
    "    def __enter__(self):\n",
    "        print(\"in enter\")\n",
    "        return \"Foo\"\n",
    "    def __exit__(self,exc_type,exc_val,exc_tb):\n",
    "        print('out exit')\n",
    "def get_sample():\n",
    "    return Sample()"
   ]
  },
  {
   "cell_type": "code",
   "execution_count": 10,
   "metadata": {},
   "outputs": [
    {
     "name": "stdout",
     "output_type": "stream",
     "text": [
      "in enter\n",
      "Sample: Foo\n",
      "out exit\n"
     ]
    }
   ],
   "source": [
    "with get_sample() as sample:\n",
    "    print(\"Sample:\",sample)"
   ]
  },
  {
   "cell_type": "code",
   "execution_count": 19,
   "metadata": {},
   "outputs": [],
   "source": [
    "class Sample2:\n",
    "    def __enter__(self):\n",
    "        print('in enter')\n",
    "        return self\n",
    "    def __exit__(self,exc_type,exc_val,exc_tb):\n",
    "        print('out exit')\n",
    "        print('type:',exc_type)\n",
    "        print('val:',exc_val)\n",
    "        print('tb:',exc_tb)\n",
    "    def do_something(self):\n",
    "        b = 1/1 ##check what will be printed when b=1/0\n",
    "        return b"
   ]
  },
  {
   "cell_type": "code",
   "execution_count": 21,
   "metadata": {},
   "outputs": [
    {
     "name": "stdout",
     "output_type": "stream",
     "text": [
      "in enter\n",
      "first check\n",
      "1.0\n",
      "out exit\n",
      "type: None\n",
      "val: None\n",
      "tb: None\n"
     ]
    }
   ],
   "source": [
    "with Sample2() as sample:\n",
    "    print('first check')\n",
    "    c = sample.do_something()\n",
    "    print(c)"
   ]
  },
  {
   "cell_type": "markdown",
   "metadata": {},
   "source": [
    "### 定义array之后 通过numpy进行打乱数据"
   ]
  },
  {
   "cell_type": "code",
   "execution_count": 1,
   "metadata": {},
   "outputs": [
    {
     "name": "stdout",
     "output_type": "stream",
     "text": [
      "[7 9 2 4 1 0 5 8 3 6]\n"
     ]
    }
   ],
   "source": [
    "import numpy as np\n",
    "b =np.array([0,1,2,3,4,5,6,7,8,9])\n",
    "length = len(b)\n",
    "a = np.arange(length)\n",
    "np.random.shuffle(a)\n",
    "c = b[a]\n",
    "print(c)"
   ]
  },
  {
   "cell_type": "code",
   "execution_count": null,
   "metadata": {},
   "outputs": [],
   "source": []
  }
 ],
 "metadata": {
  "kernelspec": {
   "display_name": "Python 3",
   "language": "python",
   "name": "python3"
  },
  "language_info": {
   "codemirror_mode": {
    "name": "ipython",
    "version": 3
   },
   "file_extension": ".py",
   "mimetype": "text/x-python",
   "name": "python",
   "nbconvert_exporter": "python",
   "pygments_lexer": "ipython3",
   "version": "3.5.6"
  }
 },
 "nbformat": 4,
 "nbformat_minor": 2
}
