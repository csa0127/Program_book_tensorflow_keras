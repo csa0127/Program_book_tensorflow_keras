{
 "cells": [
  {
   "cell_type": "code",
   "execution_count": 1,
   "metadata": {},
   "outputs": [],
   "source": [
    "%matplotlib inline"
   ]
  },
  {
   "cell_type": "markdown",
   "metadata": {},
   "source": [
    "### use vgg16 model , do not include output layer .original output is 1000 and here want the new output is 1"
   ]
  },
  {
   "cell_type": "code",
   "execution_count": 2,
   "metadata": {},
   "outputs": [
    {
     "name": "stdout",
     "output_type": "stream",
     "text": [
      "Downloading data from https://github.com/fchollet/deep-learning-models/releases/download/v0.1/vgg16_weights_tf_dim_ordering_tf_kernels_notop.h5\n",
      "58892288/58889256 [==============================]58892288/58889256 [==============================] - 40s 1us/step\n",
      "\n",
      "_________________________________________________________________\n",
      "Layer (type)                 Output Shape              Param #   \n",
      "=================================================================\n",
      "input_1 (InputLayer)         (None, 224, 224, 3)       0         \n",
      "_________________________________________________________________\n",
      "block1_conv1 (Conv2D)        (None, 224, 224, 64)      1792      \n",
      "_________________________________________________________________\n",
      "block1_conv2 (Conv2D)        (None, 224, 224, 64)      36928     \n",
      "_________________________________________________________________\n",
      "block1_pool (MaxPooling2D)   (None, 112, 112, 64)      0         \n",
      "_________________________________________________________________\n",
      "block2_conv1 (Conv2D)        (None, 112, 112, 128)     73856     \n",
      "_________________________________________________________________\n",
      "block2_conv2 (Conv2D)        (None, 112, 112, 128)     147584    \n",
      "_________________________________________________________________\n",
      "block2_pool (MaxPooling2D)   (None, 56, 56, 128)       0         \n",
      "_________________________________________________________________\n",
      "block3_conv1 (Conv2D)        (None, 56, 56, 256)       295168    \n",
      "_________________________________________________________________\n",
      "block3_conv2 (Conv2D)        (None, 56, 56, 256)       590080    \n",
      "_________________________________________________________________\n",
      "block3_conv3 (Conv2D)        (None, 56, 56, 256)       590080    \n",
      "_________________________________________________________________\n",
      "block3_pool (MaxPooling2D)   (None, 28, 28, 256)       0         \n",
      "_________________________________________________________________\n",
      "block4_conv1 (Conv2D)        (None, 28, 28, 512)       1180160   \n",
      "_________________________________________________________________\n",
      "block4_conv2 (Conv2D)        (None, 28, 28, 512)       2359808   \n",
      "_________________________________________________________________\n",
      "block4_conv3 (Conv2D)        (None, 28, 28, 512)       2359808   \n",
      "_________________________________________________________________\n",
      "block4_pool (MaxPooling2D)   (None, 14, 14, 512)       0         \n",
      "_________________________________________________________________\n",
      "block5_conv1 (Conv2D)        (None, 14, 14, 512)       2359808   \n",
      "_________________________________________________________________\n",
      "block5_conv2 (Conv2D)        (None, 14, 14, 512)       2359808   \n",
      "_________________________________________________________________\n",
      "block5_conv3 (Conv2D)        (None, 14, 14, 512)       2359808   \n",
      "_________________________________________________________________\n",
      "block5_pool (MaxPooling2D)   (None, 7, 7, 512)         0         \n",
      "=================================================================\n",
      "Total params: 14,714,688\n",
      "Trainable params: 14,714,688\n",
      "Non-trainable params: 0\n",
      "_________________________________________________________________\n"
     ]
    }
   ],
   "source": [
    "from tensorflow.python.keras.applications.vgg16 import VGG16\n",
    "vgg16 = VGG16(include_top = False, input_shape=(224,224,3))\n",
    "vgg16.summary()"
   ]
  },
  {
   "cell_type": "markdown",
   "metadata": {},
   "source": [
    "### modify the model and add new output layer for new output. Use sequential to create new model"
   ]
  },
  {
   "cell_type": "code",
   "execution_count": 7,
   "metadata": {},
   "outputs": [
    {
     "name": "stdout",
     "output_type": "stream",
     "text": [
      "19\n"
     ]
    }
   ],
   "source": [
    "from tensorflow.python.keras.models import Sequential\n",
    "from tensorflow.python.keras.layers import Dense,Dropout, Flatten\n",
    "def build_transfer_model(vgg16):\n",
    "    # transfer to sequential model and no trainable\n",
    "    model = Sequential(vgg16.layers)\n",
    "    print(len(model.layers))\n",
    "    for layer in model.layers[:15]:\n",
    "        layer.trainable = False\n",
    "    #add new output layer\n",
    "    model.add(Flatten())\n",
    "    model.add(Dense(256,activation='relu'))\n",
    "    model.add(Dropout(0.5))\n",
    "    model.add(Dense(1,activation='sigmoid'))\n",
    "    \n",
    "    return model\n",
    "model = build_transfer_model(vgg16)"
   ]
  },
  {
   "cell_type": "markdown",
   "metadata": {},
   "source": [
    "### compile new model"
   ]
  },
  {
   "cell_type": "code",
   "execution_count": 8,
   "metadata": {},
   "outputs": [
    {
     "name": "stdout",
     "output_type": "stream",
     "text": [
      "WARNING:tensorflow:From D:\\ProgramFiles\\AnaConda3\\envs\\tensorflow\\lib\\site-packages\\tensorflow\\python\\keras\\_impl\\keras\\backend.py:1557: calling reduce_mean (from tensorflow.python.ops.math_ops) with keep_dims is deprecated and will be removed in a future version.\n",
      "Instructions for updating:\n",
      "keep_dims is deprecated, use keepdims instead\n"
     ]
    }
   ],
   "source": [
    "from tensorflow.python.keras.optimizers import SGD\n",
    "model.compile(\n",
    "    loss = 'binary_crossentropy',\n",
    "    optimizer = SGD(lr=1e-4,momentum = 0.9),\n",
    "    metrics = ['accuracy']\n",
    ")\n"
   ]
  },
  {
   "cell_type": "code",
   "execution_count": 9,
   "metadata": {},
   "outputs": [
    {
     "name": "stdout",
     "output_type": "stream",
     "text": [
      "_________________________________________________________________\n",
      "Layer (type)                 Output Shape              Param #   \n",
      "=================================================================\n",
      "input_1 (InputLayer)         (None, 224, 224, 3)       0         \n",
      "_________________________________________________________________\n",
      "block1_conv1 (Conv2D)        (None, 224, 224, 64)      1792      \n",
      "_________________________________________________________________\n",
      "block1_conv2 (Conv2D)        (None, 224, 224, 64)      36928     \n",
      "_________________________________________________________________\n",
      "block1_pool (MaxPooling2D)   (None, 112, 112, 64)      0         \n",
      "_________________________________________________________________\n",
      "block2_conv1 (Conv2D)        (None, 112, 112, 128)     73856     \n",
      "_________________________________________________________________\n",
      "block2_conv2 (Conv2D)        (None, 112, 112, 128)     147584    \n",
      "_________________________________________________________________\n",
      "block2_pool (MaxPooling2D)   (None, 56, 56, 128)       0         \n",
      "_________________________________________________________________\n",
      "block3_conv1 (Conv2D)        (None, 56, 56, 256)       295168    \n",
      "_________________________________________________________________\n",
      "block3_conv2 (Conv2D)        (None, 56, 56, 256)       590080    \n",
      "_________________________________________________________________\n",
      "block3_conv3 (Conv2D)        (None, 56, 56, 256)       590080    \n",
      "_________________________________________________________________\n",
      "block3_pool (MaxPooling2D)   (None, 28, 28, 256)       0         \n",
      "_________________________________________________________________\n",
      "block4_conv1 (Conv2D)        (None, 28, 28, 512)       1180160   \n",
      "_________________________________________________________________\n",
      "block4_conv2 (Conv2D)        (None, 28, 28, 512)       2359808   \n",
      "_________________________________________________________________\n",
      "block4_conv3 (Conv2D)        (None, 28, 28, 512)       2359808   \n",
      "_________________________________________________________________\n",
      "block4_pool (MaxPooling2D)   (None, 14, 14, 512)       0         \n",
      "_________________________________________________________________\n",
      "block5_conv1 (Conv2D)        (None, 14, 14, 512)       2359808   \n",
      "_________________________________________________________________\n",
      "block5_conv2 (Conv2D)        (None, 14, 14, 512)       2359808   \n",
      "_________________________________________________________________\n",
      "block5_conv3 (Conv2D)        (None, 14, 14, 512)       2359808   \n",
      "_________________________________________________________________\n",
      "block5_pool (MaxPooling2D)   (None, 7, 7, 512)         0         \n",
      "_________________________________________________________________\n",
      "flatten_2 (Flatten)          (None, 25088)             0         \n",
      "_________________________________________________________________\n",
      "dense_3 (Dense)              (None, 256)               6422784   \n",
      "_________________________________________________________________\n",
      "dropout_2 (Dropout)          (None, 256)               0         \n",
      "_________________________________________________________________\n",
      "dense_4 (Dense)              (None, 1)                 257       \n",
      "=================================================================\n",
      "Total params: 21,137,729\n",
      "Trainable params: 13,502,465\n",
      "Non-trainable params: 7,635,264\n",
      "_________________________________________________________________\n"
     ]
    }
   ],
   "source": [
    "model.summary()"
   ]
  },
  {
   "cell_type": "markdown",
   "metadata": {},
   "source": [
    "### can use generator to create mini batch data"
   ]
  },
  {
   "cell_type": "code",
   "execution_count": 10,
   "metadata": {},
   "outputs": [],
   "source": [
    "from tensorflow.python.keras.preprocessing.image import ImageDataGenerator\n",
    "from tensorflow.python.keras.applications.vgg16 import preprocess_input\n",
    "## change data scale \n",
    "idg_train = ImageDataGenerator(\n",
    "    rescale = 1/255.,\n",
    "    shear_range = 0.1,\n",
    "    zoom_range = 0.1,\n",
    "    horizontal_flip = True,\n",
    "    preprocessing_function = preprocess_input\n",
    ")"
   ]
  },
  {
   "cell_type": "markdown",
   "metadata": {},
   "source": [
    "### create iterator to load image"
   ]
  },
  {
   "cell_type": "code",
   "execution_count": 11,
   "metadata": {},
   "outputs": [
    {
     "name": "stdout",
     "output_type": "stream",
     "text": [
      "Found 600 images belonging to 2 classes.\n",
      "Found 200 images belonging to 2 classes.\n"
     ]
    }
   ],
   "source": [
    "# for train data(@ learning)\n",
    "img_itr_train = idg_train.flow_from_directory(\n",
    "    'img/shrine_temple/train',\n",
    "    target_size = (224,224),\n",
    "    batch_size = 16,\n",
    "    class_mode = 'binary'\n",
    ")\n",
    "# for confirm data(@ learning)\n",
    "img_itr_validation = idg_train.flow_from_directory(\n",
    "    'img/shrine_temple/validation',\n",
    "    target_size = (224,224),\n",
    "    batch_size = 16,\n",
    "    class_mode = 'binary'\n",
    ")"
   ]
  },
  {
   "cell_type": "markdown",
   "metadata": {},
   "source": [
    "### output directory setting "
   ]
  },
  {
   "cell_type": "code",
   "execution_count": 12,
   "metadata": {},
   "outputs": [
    {
     "name": "stdout",
     "output_type": "stream",
     "text": [
      "model_dir: models\\180913_1408\n",
      "dir_weights: models\\180913_1408\\weights\n"
     ]
    }
   ],
   "source": [
    "import os\n",
    "from datetime import datetime\n",
    "model_dir = os.path.join(\n",
    "    'models',\n",
    "    datetime.now().strftime('%y%m%d_%H%M')\n",
    ")\n",
    "os.makedirs(model_dir, exist_ok = True)\n",
    "print('model_dir:',model_dir)\n",
    "dir_weights = os.path.join(model_dir,'weights')\n",
    "os.makedirs(dir_weights,exist_ok = True)\n",
    "print('dir_weights:',dir_weights)"
   ]
  },
  {
   "cell_type": "markdown",
   "metadata": {},
   "source": [
    "### save network and output label information"
   ]
  },
  {
   "cell_type": "code",
   "execution_count": 17,
   "metadata": {},
   "outputs": [
    {
     "name": "stdout",
     "output_type": "stream",
     "text": [
      "{'shrine': 0, 'temple': 1}\n"
     ]
    }
   ],
   "source": [
    "import json\n",
    "import pickle\n",
    "# save network\n",
    "model_json = os.path.join(model_dir, 'model.json')\n",
    "with open(model_json,'w') as f:    #write only\n",
    "    json.dump(model.to_json(),f)\n",
    "\n",
    "# save true label\n",
    "model_classes = os.path.join(model_dir,'classes.pkl')\n",
    "with open(model_classes, 'wb') as f:   #write only for binary \n",
    "    pickle.dump(img_itr_train.class_indices, f) # save label info\n",
    "print(img_itr_train.class_indices)"
   ]
  },
  {
   "cell_type": "markdown",
   "metadata": {},
   "source": [
    "### calculate how many batch is necessary for 1 epoch"
   ]
  },
  {
   "cell_type": "code",
   "execution_count": 18,
   "metadata": {},
   "outputs": [
    {
     "name": "stdout",
     "output_type": "stream",
     "text": [
      "600\n"
     ]
    }
   ],
   "source": [
    "import math\n",
    "batch_size = 16\n",
    "steps_per_epoch = math.ceil(img_itr_train.samples/batch_size)\n",
    "validation_steps = math.ceil(img_itr_validation.samples/batch_size)\n",
    "print (img_itr_train.samples)"
   ]
  },
  {
   "cell_type": "markdown",
   "metadata": {},
   "source": [
    "### set callback"
   ]
  },
  {
   "cell_type": "code",
   "execution_count": 19,
   "metadata": {},
   "outputs": [],
   "source": [
    "from tensorflow.python.keras.callbacks import ModelCheckpoint, CSVLogger\n",
    "# Callback setting\n",
    "cp_filepath = os.path.join(dir_weights, 'ep_{epoch:02d}_ls_{loss:.1f}.h5')\n",
    "cp = ModelCheckpoint(\n",
    "    cp_filepath,\n",
    "    monitor = 'loss',\n",
    "    verbose = 0,\n",
    "    save_best_only = False,\n",
    "    save_weights_only = True,\n",
    "    mode = 'auto',\n",
    "    period = 5\n",
    ")\n",
    "csv_filepath = os.path.join(model_dir, 'loss.csv')\n",
    "csv = CSVLogger(csv_filepath, append = True)"
   ]
  },
  {
   "cell_type": "markdown",
   "metadata": {},
   "source": [
    "### model learning start"
   ]
  },
  {
   "cell_type": "code",
   "execution_count": 21,
   "metadata": {
    "scrolled": true
   },
   "outputs": [
    {
     "name": "stdout",
     "output_type": "stream",
     "text": [
      "Epoch 1/20\n",
      "38/38 [==============================]38/38 [==============================] - 434s 11s/step - loss: 0.3644 - acc: 0.8470 - val_loss: 0.2474 - val_acc: 0.9150\n",
      "\n",
      "Epoch 2/20\n",
      "38/38 [==============================]38/38 [==============================] - 432s 11s/step - loss: 0.3350 - acc: 0.8618 - val_loss: 0.2147 - val_acc: 0.9300\n",
      "\n",
      "Epoch 3/20\n",
      "38/38 [==============================]38/38 [==============================] - 431s 11s/step - loss: 0.3097 - acc: 0.8717 - val_loss: 0.2061 - val_acc: 0.9250\n",
      "\n",
      "Epoch 4/20\n",
      "38/38 [==============================]38/38 [==============================] - 430s 11s/step - loss: 0.2877 - acc: 0.8832 - val_loss: 0.2441 - val_acc: 0.8800\n",
      "\n",
      "Epoch 5/20\n",
      "38/38 [==============================]38/38 [==============================] - 433s 11s/step - loss: 0.2619 - acc: 0.8947 - val_loss: 0.1949 - val_acc: 0.9250\n",
      "\n",
      "Epoch 6/20\n",
      "38/38 [==============================]38/38 [==============================] - 441s 12s/step - loss: 0.2384 - acc: 0.9062 - val_loss: 0.1771 - val_acc: 0.9350\n",
      "\n",
      "Epoch 7/20\n",
      "38/38 [==============================]38/38 [==============================] - 435s 11s/step - loss: 0.2264 - acc: 0.9227 - val_loss: 0.1731 - val_acc: 0.9400\n",
      "\n",
      "Epoch 8/20\n",
      "38/38 [==============================]38/38 [==============================] - 438s 12s/step - loss: 0.2225 - acc: 0.9112 - val_loss: 0.1618 - val_acc: 0.9450\n",
      "\n",
      "Epoch 9/20\n",
      "38/38 [==============================]38/38 [==============================] - 435s 11s/step - loss: 0.2133 - acc: 0.9030 - val_loss: 0.1651 - val_acc: 0.9350\n",
      "\n",
      "Epoch 10/20\n",
      "38/38 [==============================]38/38 [==============================] - 457s 12s/step - loss: 0.1874 - acc: 0.9276 - val_loss: 0.1557 - val_acc: 0.9450\n",
      "\n",
      "Epoch 11/20\n",
      "38/38 [==============================]38/38 [==============================] - 456s 12s/step - loss: 0.1986 - acc: 0.9194 - val_loss: 0.1453 - val_acc: 0.9500\n",
      "\n",
      "Epoch 12/20\n",
      "38/38 [==============================]38/38 [==============================] - 436s 11s/step - loss: 0.1866 - acc: 0.9325 - val_loss: 0.1509 - val_acc: 0.9500\n",
      "\n",
      "Epoch 13/20\n",
      "38/38 [==============================]38/38 [==============================] - 437s 12s/step - loss: 0.1817 - acc: 0.9260 - val_loss: 0.1733 - val_acc: 0.9350\n",
      "\n",
      "Epoch 14/20\n",
      "38/38 [==============================]38/38 [==============================] - 442s 12s/step - loss: 0.1827 - acc: 0.9228 - val_loss: 0.1522 - val_acc: 0.9400\n",
      "\n",
      "Epoch 15/20\n",
      "38/38 [==============================]38/38 [==============================] - 440s 12s/step - loss: 0.1490 - acc: 0.9523 - val_loss: 0.1452 - val_acc: 0.9400\n",
      "\n",
      "Epoch 16/20\n",
      "38/38 [==============================]38/38 [==============================] - 434s 11s/step - loss: 0.1444 - acc: 0.9506 - val_loss: 0.1542 - val_acc: 0.9400\n",
      "\n",
      "Epoch 17/20\n",
      "38/38 [==============================]38/38 [==============================] - 430s 11s/step - loss: 0.1394 - acc: 0.9506 - val_loss: 0.1372 - val_acc: 0.9500\n",
      "\n",
      "Epoch 18/20\n",
      "38/38 [==============================]38/38 [==============================] - 440s 12s/step - loss: 0.1354 - acc: 0.9408 - val_loss: 0.1279 - val_acc: 0.9550\n",
      "\n",
      "Epoch 19/20\n",
      "38/38 [==============================]38/38 [==============================] - 448s 12s/step - loss: 0.1426 - acc: 0.9376 - val_loss: 0.1654 - val_acc: 0.9400\n",
      "\n",
      "Epoch 20/20\n",
      "38/38 [==============================]38/38 [==============================] - 435s 11s/step - loss: 0.1172 - acc: 0.9638 - val_loss: 0.1425 - val_acc: 0.9400\n",
      "\n"
     ]
    }
   ],
   "source": [
    "n_epoch = 20\n",
    "history = model.fit_generator(\n",
    "    img_itr_train,\n",
    "    steps_per_epoch = steps_per_epoch,\n",
    "    epochs = n_epoch,\n",
    "    validation_data = img_itr_validation,\n",
    "    validation_steps = validation_steps,\n",
    "    callbacks = [cp,csv]\n",
    ")"
   ]
  },
  {
   "cell_type": "markdown",
   "metadata": {},
   "source": [
    "### check the predict result"
   ]
  },
  {
   "cell_type": "code",
   "execution_count": 31,
   "metadata": {},
   "outputs": [
    {
     "ename": "ImportError",
     "evalue": "No module named 'utils'",
     "output_type": "error",
     "traceback": [
      "\u001b[1;31m---------------------------------------------------------------------------\u001b[0m",
      "\u001b[1;31mImportError\u001b[0m                               Traceback (most recent call last)",
      "\u001b[1;32m<ipython-input-31-f32894cd25fe>\u001b[0m in \u001b[0;36m<module>\u001b[1;34m()\u001b[0m\n\u001b[1;32m----> 1\u001b[1;33m \u001b[1;32mfrom\u001b[0m \u001b[0mutils\u001b[0m \u001b[1;32mimport\u001b[0m \u001b[0mload_random_imgs\u001b[0m\u001b[1;33m\u001b[0m\u001b[0m\n\u001b[0m\u001b[0;32m      2\u001b[0m \u001b[0mtest_data_dir\u001b[0m \u001b[1;33m=\u001b[0m \u001b[1;34m'img/shrine_temple/test/unknown'\u001b[0m\u001b[1;33m\u001b[0m\u001b[0m\n\u001b[0;32m      3\u001b[0m \u001b[0mx_test\u001b[0m\u001b[1;33m,\u001b[0m\u001b[0mtrue_labels\u001b[0m \u001b[1;33m=\u001b[0m \u001b[0mload_random_imgs\u001b[0m\u001b[1;33m(\u001b[0m\u001b[0mtest_data_dir\u001b[0m\u001b[1;33m,\u001b[0m\u001b[0mseed\u001b[0m\u001b[1;33m=\u001b[0m\u001b[1;36m1\u001b[0m\u001b[1;33m)\u001b[0m\u001b[1;33m\u001b[0m\u001b[0m\n\u001b[0;32m      4\u001b[0m \u001b[0mx_test_preproc\u001b[0m \u001b[1;33m=\u001b[0m \u001b[0mpreprocess_input\u001b[0m\u001b[1;33m(\u001b[0m\u001b[0mx_test\u001b[0m\u001b[1;33m.\u001b[0m\u001b[0mcopy\u001b[0m\u001b[1;33m(\u001b[0m\u001b[1;33m)\u001b[0m\u001b[1;33m)\u001b[0m\u001b[1;33m/\u001b[0m\u001b[1;36m255.\u001b[0m\u001b[1;33m\u001b[0m\u001b[0m\n\u001b[0;32m      5\u001b[0m \u001b[0mprobs\u001b[0m \u001b[1;33m=\u001b[0m \u001b[0mmodel\u001b[0m\u001b[1;33m.\u001b[0m\u001b[0mpredict\u001b[0m\u001b[1;33m(\u001b[0m\u001b[0mx_test_preproc\u001b[0m\u001b[1;33m)\u001b[0m\u001b[1;33m\u001b[0m\u001b[0m\n",
      "\u001b[1;31mImportError\u001b[0m: No module named 'utils'"
     ]
    }
   ],
   "source": [
    "from utils import load_random_imgs\n",
    "test_data_dir = 'img/shrine_temple/test/unknown'\n",
    "x_test,true_labels = load_random_imgs(test_data_dir,seed=1)\n",
    "x_test_preproc = preprocess_input(x_test.copy())/255.\n",
    "probs = model.predict(x_test_preproc)\n",
    "probs"
   ]
  },
  {
   "cell_type": "markdown",
   "metadata": {},
   "source": [
    "### confirm the result"
   ]
  },
  {
   "cell_type": "code",
   "execution_count": 32,
   "metadata": {},
   "outputs": [
    {
     "ename": "ImportError",
     "evalue": "No module named 'utils'",
     "output_type": "error",
     "traceback": [
      "\u001b[1;31m---------------------------------------------------------------------------\u001b[0m",
      "\u001b[1;31mImportError\u001b[0m                               Traceback (most recent call last)",
      "\u001b[1;32m<ipython-input-32-b85f3dd0ab7e>\u001b[0m in \u001b[0;36m<module>\u001b[1;34m()\u001b[0m\n\u001b[1;32m----> 1\u001b[1;33m \u001b[1;32mfrom\u001b[0m \u001b[0mutils\u001b[0m \u001b[1;32mimport\u001b[0m \u001b[0mshow_test_samples\u001b[0m\u001b[1;33m\u001b[0m\u001b[0m\n\u001b[0m\u001b[0;32m      2\u001b[0m show_test_samples(\n\u001b[0;32m      3\u001b[0m     \u001b[0mx_test\u001b[0m\u001b[1;33m,\u001b[0m\u001b[0mprobs\u001b[0m\u001b[1;33m,\u001b[0m\u001b[1;33m\u001b[0m\u001b[0m\n\u001b[0;32m      4\u001b[0m     \u001b[0mimg_itr_train\u001b[0m\u001b[1;33m.\u001b[0m\u001b[0mclass_indices\u001b[0m\u001b[1;33m,\u001b[0m\u001b[1;33m\u001b[0m\u001b[0m\n\u001b[0;32m      5\u001b[0m     \u001b[0mtrue_labels\u001b[0m\u001b[1;33m\u001b[0m\u001b[0m\n",
      "\u001b[1;31mImportError\u001b[0m: No module named 'utils'"
     ]
    }
   ],
   "source": [
    "from utils import show_test_samples\n",
    "show_test_samples(\n",
    "    x_test,probs,\n",
    "    img_itr_train.class_indices,\n",
    "    true_labels\n",
    ")"
   ]
  },
  {
   "cell_type": "code",
   "execution_count": null,
   "metadata": {},
   "outputs": [],
   "source": []
  }
 ],
 "metadata": {
  "kernelspec": {
   "display_name": "Python 3",
   "language": "python",
   "name": "python3"
  },
  "language_info": {
   "codemirror_mode": {
    "name": "ipython",
    "version": 3
   },
   "file_extension": ".py",
   "mimetype": "text/x-python",
   "name": "python",
   "nbconvert_exporter": "python",
   "pygments_lexer": "ipython3",
   "version": "3.5.6"
  }
 },
 "nbformat": 4,
 "nbformat_minor": 2
}
