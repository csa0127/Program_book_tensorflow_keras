{
 "cells": [
  {
   "cell_type": "markdown",
   "metadata": {},
   "source": [
    "### Dropout layer Example"
   ]
  },
  {
   "cell_type": "code",
   "execution_count": 2,
   "metadata": {},
   "outputs": [
    {
     "name": "stdout",
     "output_type": "stream",
     "text": [
      "WARNING:tensorflow:From D:\\ProgramFiles\\AnaConda3\\envs\\tensorflow\\lib\\site-packages\\tensorflow\\python\\keras\\_impl\\keras\\backend.py:3086: calling reduce_sum (from tensorflow.python.ops.math_ops) with keep_dims is deprecated and will be removed in a future version.\n",
      "Instructions for updating:\n",
      "keep_dims is deprecated, use keepdims instead\n",
      "WARNING:tensorflow:From D:\\ProgramFiles\\AnaConda3\\envs\\tensorflow\\lib\\site-packages\\tensorflow\\python\\keras\\_impl\\keras\\backend.py:1557: calling reduce_mean (from tensorflow.python.ops.math_ops) with keep_dims is deprecated and will be removed in a future version.\n",
      "Instructions for updating:\n",
      "keep_dims is deprecated, use keepdims instead\n"
     ]
    }
   ],
   "source": [
    "from tensorflow.python.keras.models import Sequential\n",
    "from tensorflow.python.keras.layers import Dense,Dropout\n",
    "model = Sequential()\n",
    "model.add(Dense(64,activation = 'relu', input_dim = 20))\n",
    "model.add(Dropout(0.5))\n",
    "model.add(Dense(64,activation = 'relu'))\n",
    "model.add(Dropout(0.5))\n",
    "model.add(Dense(10,activation = 'softmax'))\n",
    "model.compile(\n",
    "    loss = 'categorical_crossentropy',\n",
    "    optimizer = 'SGD',\n",
    "    metrics = ['accuracy']\n",
    ")"
   ]
  },
  {
   "cell_type": "markdown",
   "metadata": {},
   "source": [
    "### BatchNormalization layer Example (normalize data for middle layer)\n",
    "##### sometimes no need to add Dropout layer when use batchnormalization layer"
   ]
  },
  {
   "cell_type": "code",
   "execution_count": 3,
   "metadata": {},
   "outputs": [],
   "source": [
    "from tensorflow.python.keras.models import Sequential\n",
    "from tensorflow.python.keras.layers import Dense,Activation,BatchNormalization\n",
    "model= Sequential()\n",
    "model.add(Dense(64,input_dim=20))\n",
    "model.add(BatchNormalization())\n",
    "model.add(Activation('relu'))\n",
    "model.add(Dense(64))\n",
    "model.add(BatchNormalization())\n",
    "model.add(Activation('relu'))\n",
    "model.add(Dense(10,activation='softmax'))\n",
    "\n",
    "model.compile(\n",
    "    loss = 'categorical_crossentropy',\n",
    "    optimizer = 'SGD',\n",
    "    metrics = ['accuracy']\n",
    ")"
   ]
  },
  {
   "cell_type": "markdown",
   "metadata": {},
   "source": [
    "### Lambda layer Example (can add any kind of function)"
   ]
  },
  {
   "cell_type": "code",
   "execution_count": 4,
   "metadata": {},
   "outputs": [],
   "source": [
    "from tensorflow.python.keras.layers import Input,Lambda\n",
    "from tensorflow.python.keras.models import Model\n",
    "model_in = Input(shape=(20,))\n",
    "x=Lambda(lambda x:x/255.)(model_in)\n",
    "x=Dense(64,activation = 'relu')(x)\n",
    "model_out = Dense(10,activation='softmax')(x)\n",
    "\n",
    "model = Model(inputs=model_in, outputs=model_out)\n",
    "model.compile(\n",
    "    loss='categorical_crossentropy',\n",
    "    optimizer = 'SGD',\n",
    "    metrics = ['accuracy']\n",
    ")"
   ]
  },
  {
   "cell_type": "markdown",
   "metadata": {},
   "source": [
    "### the usage of Activation layer or Activation param\n",
    "##### in Lambda layer use the Activation param, in BatchNormalization layer use the Activation layer"
   ]
  },
  {
   "cell_type": "code",
   "execution_count": 5,
   "metadata": {},
   "outputs": [
    {
     "name": "stdout",
     "output_type": "stream",
     "text": [
      "refer to Lambda Layer and BatchNormalization Layer\n"
     ]
    }
   ],
   "source": [
    "print(\"refer to Lambda Layer and BatchNormalization Layer\")"
   ]
  },
  {
   "cell_type": "code",
   "execution_count": 29,
   "metadata": {},
   "outputs": [],
   "source": [
    "from tensorflow.python.keras.preprocessing.image import load_img\n",
    "img_relu = load_img('img/activation_relu.jpg',target_size=(224,224))\n",
    "img_LeakyRelu = load_img('img/activation_LeakyRelu.png',target_size=(424,624))\n",
    "img_ELU = load_img('img/activation_ELU.png',target_size=(224,424))\n",
    "# and also clipped relu (relu is limited)"
   ]
  },
  {
   "cell_type": "code",
   "execution_count": 30,
   "metadata": {},
   "outputs": [
    {
     "data": {
      "image/png": "[encoded data removed]",
      "text/plain": [
       "<PIL.Image.Image image mode=RGB size=424x224 at 0x12826730C88>"
      ]
     },
     "execution_count": 30,
     "metadata": {},
     "output_type": "execute_result"
    }
   ],
   "source": [
    "img_ELU"
   ]
  },
  {
   "cell_type": "code",
   "execution_count": 27,
   "metadata": {},
   "outputs": [],
   "source": [
    "# realize clipped relu by using relu and limit function\n",
    "from tensorflow.python.keras.layers import Activation\n",
    "from tensorflow.python.keras.activations import relu\n",
    "model = Sequential()\n",
    "model.add(\n",
    "    Dense(64, input_dim=20, activation=lambda x: relu(x,max_value=2))\n",
    ")\n",
    "model.add(Dense(1,activation='sigmoid'))\n",
    "model.compile(\n",
    "    loss='binary_crossentropy',\n",
    "    optimizer = 'SGD',\n",
    "    metrics = ['accuracy']\n",
    ")"
   ]
  },
  {
   "cell_type": "markdown",
   "metadata": {},
   "source": [
    "### use ImageDataGenerator to preprocess the data and send data to input layer by batch size(speed is faster)\n",
    "##### after use ImageDataGenerator use flow_from_directory function to make a data iterator and can be used later"
   ]
  },
  {
   "cell_type": "code",
   "execution_count": 31,
   "metadata": {},
   "outputs": [],
   "source": [
    "from tensorflow.python.keras.preprocessing.image import ImageDataGenerator\n",
    "gen = ImageDataGenerator(\n",
    "    rescale = 1/255,  #scale\n",
    "    rotation_range = 90.,  #rotate image randomly within 90 degree\n",
    "    width_shift_range = 1., #shift image horizontally within 1 \n",
    "    height_shift_range = .5, #shift image vertically within 0.5\n",
    "    shear_range = .8, #CCW direction, shear image\n",
    "    zoom_range = .5, #randommly zoom image within 0.5\n",
    "    horizontal_flip = True, #rotate image in horizontal\n",
    "    vertical_flip = True #rotate image in vertical\n",
    ")"
   ]
  },
  {
   "cell_type": "code",
   "execution_count": 41,
   "metadata": {},
   "outputs": [
    {
     "name": "stdout",
     "output_type": "stream",
     "text": [
      "Found 25 images belonging to 2 classes.\n",
      "shape of x_train_batch: (5, 32, 32, 3)\n",
      "shape of y_train_batch: (5,)\n"
     ]
    },
    {
     "data": {
      "text/plain": [
       "25"
      ]
     },
     "execution_count": 41,
     "metadata": {},
     "output_type": "execute_result"
    }
   ],
   "source": [
    "iters = gen.flow_from_directory(\n",
    "    'img_c7',\n",
    "    target_size = (32,32),\n",
    "    class_mode = 'binary',\n",
    "    batch_size = 5,\n",
    "    shuffle = True\n",
    ")\n",
    "#get data from iters\n",
    "x_train_batch, y_train_batch = next(iters)\n",
    "print('shape of x_train_batch:',x_train_batch.shape)\n",
    "print('shape of y_train_batch:',y_train_batch.shape)\n",
    "(iters.samples)"
   ]
  },
  {
   "cell_type": "markdown",
   "metadata": {},
   "source": [
    "### call fit_generator or predict_generator function to use the iterator data"
   ]
  },
  {
   "cell_type": "code",
   "execution_count": 44,
   "metadata": {},
   "outputs": [
    {
     "name": "stdout",
     "output_type": "stream",
     "text": [
      "Epoch 1/1\n",
      "5/5 [==============================]5/5 [==============================] - 1s 187ms/step - loss: 0.8796\n",
      "\n"
     ]
    }
   ],
   "source": [
    "import math\n",
    "from tensorflow.python.keras.models import Sequential\n",
    "from tensorflow.python.keras.layers import Flatten,Dense,Conv2D\n",
    "#create the model\n",
    "model = Sequential()\n",
    "model.add(Conv2D(16,(3,3),input_shape = (32,32,3)))\n",
    "model.add(Flatten())\n",
    "model.add(Dense(32,activation='relu'))\n",
    "model.add(Dense(1,activation='sigmoid'))\n",
    "\n",
    "model.compile(\n",
    "    loss='binary_crossentropy',\n",
    "    optimizer = 'rmsprop'\n",
    ")\n",
    "\n",
    "#calculate the numbers of mini batch for 1 epoch\n",
    "steps_per_epoch = math.ceil(iters.samples/5)\n",
    "\n",
    "#use fit_generator\n",
    "history = model.fit_generator(\n",
    "    iters,\n",
    "    steps_per_epoch = steps_per_epoch\n",
    ")"
   ]
  },
  {
   "cell_type": "code",
   "execution_count": null,
   "metadata": {},
   "outputs": [],
   "source": []
  }
 ],
 "metadata": {
  "kernelspec": {
   "display_name": "Python 3",
   "language": "python",
   "name": "python3"
  },
  "language_info": {
   "codemirror_mode": {
    "name": "ipython",
    "version": 3
   },
   "file_extension": ".py",
   "mimetype": "text/x-python",
   "name": "python",
   "nbconvert_exporter": "python",
   "pygments_lexer": "ipython3",
   "version": "3.5.6"
  }
 },
 "nbformat": 4,
 "nbformat_minor": 2
}
