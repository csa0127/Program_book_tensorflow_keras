{
 "cells": [
  {
   "cell_type": "markdown",
   "metadata": {},
   "source": [
    "### Data download"
   ]
  },
  {
   "cell_type": "code",
   "execution_count": 1,
   "metadata": {},
   "outputs": [],
   "source": [
    "from tensorflow.python.keras.datasets import mnist\n",
    "(x_train,y_train),(x_test,y_test) = mnist.load_data()"
   ]
  },
  {
   "cell_type": "markdown",
   "metadata": {},
   "source": [
    "### Data print"
   ]
  },
  {
   "cell_type": "code",
   "execution_count": 2,
   "metadata": {},
   "outputs": [
    {
     "name": "stdout",
     "output_type": "stream",
     "text": [
      "x_train.shape: (60000, 28, 28)\n",
      "x_test.shape: (10000, 28, 28)\n",
      "y_train.shape: (60000,)\n",
      "y_test.shape: (10000,)\n"
     ]
    }
   ],
   "source": [
    "print('x_train.shape:', x_train.shape)\n",
    "print('x_test.shape:', x_test.shape)\n",
    "print('y_train.shape:', y_train.shape)\n",
    "print('y_test.shape:', y_test.shape)"
   ]
  },
  {
   "cell_type": "markdown",
   "metadata": {},
   "source": [
    "### Data scale "
   ]
  },
  {
   "cell_type": "code",
   "execution_count": 3,
   "metadata": {},
   "outputs": [],
   "source": [
    "x_train = x_train.reshape(len(x_train),784)\n",
    "x_train = x_train/ 255.\n",
    "x_test = x_test.reshape(len(x_test),784)\n",
    "x_test = x_test/255."
   ]
  },
  {
   "cell_type": "markdown",
   "metadata": {},
   "source": [
    "### to_categorical 函数： 将数字转换成矩阵。比如数字1 ，输出01000 00000, 数字2,输出00100 00000."
   ]
  },
  {
   "cell_type": "code",
   "execution_count": 4,
   "metadata": {},
   "outputs": [],
   "source": [
    "from tensorflow.python.keras.utils import to_categorical\n",
    "y_train = to_categorical(y_train,10)\n",
    "y_test = to_categorical(y_test,10)"
   ]
  },
  {
   "cell_type": "markdown",
   "metadata": {},
   "source": [
    "### 构建模型用函数，使用Sequential模型"
   ]
  },
  {
   "cell_type": "code",
   "execution_count": 5,
   "metadata": {},
   "outputs": [],
   "source": [
    "from tensorflow.python.keras.models import Sequential\n",
    "model = Sequential()"
   ]
  },
  {
   "cell_type": "code",
   "execution_count": 6,
   "metadata": {},
   "outputs": [],
   "source": [
    "from tensorflow.python.keras.layers import Dense\n",
    "model.add(Dense(units=64,input_shape = (784,),activation = 'relu'))\n",
    "model.add(Dense(units=10,activation='softmax'))   ##input_shape 可以省略。因为上一层有指定"
   ]
  },
  {
   "cell_type": "markdown",
   "metadata": {},
   "source": [
    "### 使用Adam来进行训练和学习 "
   ]
  },
  {
   "cell_type": "code",
   "execution_count": 7,
   "metadata": {},
   "outputs": [
    {
     "name": "stdout",
     "output_type": "stream",
     "text": [
      "WARNING:tensorflow:From D:\\ProgramFiles\\AnaConda3\\envs\\tensorflow\\lib\\site-packages\\tensorflow\\python\\keras\\_impl\\keras\\backend.py:3086: calling reduce_sum (from tensorflow.python.ops.math_ops) with keep_dims is deprecated and will be removed in a future version.\n",
      "Instructions for updating:\n",
      "keep_dims is deprecated, use keepdims instead\n",
      "WARNING:tensorflow:From D:\\ProgramFiles\\AnaConda3\\envs\\tensorflow\\lib\\site-packages\\tensorflow\\python\\keras\\_impl\\keras\\backend.py:1557: calling reduce_mean (from tensorflow.python.ops.math_ops) with keep_dims is deprecated and will be removed in a future version.\n",
      "Instructions for updating:\n",
      "keep_dims is deprecated, use keepdims instead\n",
      "Train on 48000 samples, validate on 12000 samples\n",
      "Epoch 1/20\n",
      "48000/48000 [==============================]48000/48000 [==============================] - 3s 71us/step - loss: 0.3435 - acc: 0.9043 - val_loss: 0.1959 - val_acc: 0.9453\n",
      "\n",
      "Epoch 2/20\n",
      "48000/48000 [==============================]48000/48000 [==============================] - 3s 69us/step - loss: 0.1709 - acc: 0.9504 - val_loss: 0.1493 - val_acc: 0.9553\n",
      "\n",
      "Epoch 3/20\n",
      "48000/48000 [==============================]48000/48000 [==============================] - 3s 62us/step - loss: 0.1237 - acc: 0.9637 - val_loss: 0.1252 - val_acc: 0.9613\n",
      "\n",
      "Epoch 4/20\n",
      "48000/48000 [==============================]48000/48000 [==============================] - 3s 63us/step - loss: 0.0980 - acc: 0.9714 - val_loss: 0.1077 - val_acc: 0.9669\n",
      "\n",
      "Epoch 5/20\n",
      "48000/48000 [==============================]48000/48000 [==============================] - 3s 63us/step - loss: 0.0787 - acc: 0.9768 - val_loss: 0.1152 - val_acc: 0.9643\n",
      "\n",
      "Epoch 6/20\n",
      "48000/48000 [==============================]48000/48000 [==============================] - 3s 62us/step - loss: 0.0648 - acc: 0.9808 - val_loss: 0.1013 - val_acc: 0.9677\n",
      "\n",
      "Epoch 7/20\n",
      "48000/48000 [==============================]48000/48000 [==============================] - 3s 62us/step - loss: 0.0546 - acc: 0.9839 - val_loss: 0.1230 - val_acc: 0.9650\n",
      "\n",
      "Epoch 8/20\n",
      "48000/48000 [==============================]48000/48000 [==============================] - 3s 61us/step - loss: 0.0452 - acc: 0.9864 - val_loss: 0.1007 - val_acc: 0.9688\n",
      "\n",
      "Epoch 9/20\n",
      "48000/48000 [==============================]48000/48000 [==============================] - 3s 62us/step - loss: 0.0390 - acc: 0.9882 - val_loss: 0.1056 - val_acc: 0.9697\n",
      "\n",
      "Epoch 10/20\n",
      "48000/48000 [==============================]48000/48000 [==============================] - 3s 66us/step - loss: 0.0337 - acc: 0.9899 - val_loss: 0.1037 - val_acc: 0.9712\n",
      "\n",
      "Epoch 11/20\n",
      "48000/48000 [==============================]48000/48000 [==============================] - 3s 63us/step - loss: 0.0289 - acc: 0.9914 - val_loss: 0.1004 - val_acc: 0.9717\n",
      "\n",
      "Epoch 12/20\n",
      "48000/48000 [==============================]48000/48000 [==============================] - 4s 74us/step - loss: 0.0237 - acc: 0.9935 - val_loss: 0.1133 - val_acc: 0.9706\n",
      "\n",
      "Epoch 13/20\n",
      "48000/48000 [==============================]48000/48000 [==============================] - 4s 79us/step - loss: 0.0213 - acc: 0.9937 - val_loss: 0.1067 - val_acc: 0.9718\n",
      "\n",
      "Epoch 14/20\n",
      "48000/48000 [==============================]48000/48000 [==============================] - 3s 65us/step - loss: 0.0193 - acc: 0.9942 - val_loss: 0.1097 - val_acc: 0.9716\n",
      "\n",
      "Epoch 15/20\n",
      "48000/48000 [==============================]48000/48000 [==============================] - 3s 70us/step - loss: 0.0164 - acc: 0.9952 - val_loss: 0.1202 - val_acc: 0.9690\n",
      "\n",
      "Epoch 16/20\n",
      "48000/48000 [==============================]48000/48000 [==============================] - 3s 62us/step - loss: 0.0137 - acc: 0.9962 - val_loss: 0.1122 - val_acc: 0.9714\n",
      "\n",
      "Epoch 17/20\n",
      "48000/48000 [==============================]48000/48000 [==============================] - 3s 62us/step - loss: 0.0126 - acc: 0.9963 - val_loss: 0.1165 - val_acc: 0.9719\n",
      "\n",
      "Epoch 18/20\n",
      "48000/48000 [==============================]48000/48000 [==============================] - 3s 63us/step - loss: 0.0105 - acc: 0.9969 - val_loss: 0.1192 - val_acc: 0.9706\n",
      "\n",
      "Epoch 19/20\n",
      "48000/48000 [==============================]48000/48000 [==============================] - 3s 59us/step - loss: 0.0104 - acc: 0.9971 - val_loss: 0.1242 - val_acc: 0.9713\n",
      "\n",
      "Epoch 20/20\n",
      "48000/48000 [==============================]48000/48000 [==============================] - 3s 65us/step - loss: 0.0093 - acc: 0.9974 - val_loss: 0.1339 - val_acc: 0.9710\n",
      "\n"
     ]
    }
   ],
   "source": [
    "from tensorflow.python.keras.callbacks import TensorBoard\n",
    "model.compile(optimizer='adam', loss ='categorical_crossentropy', metrics=['accuracy'])\n",
    "tsb=TensorBoard(log_dir='./logs')\n",
    "history_adam=model.fit(x_train,y_train,batch_size=32,epochs=20,validation_split=0.2,callbacks=[tsb])"
   ]
  },
  {
   "cell_type": "markdown",
   "metadata": {},
   "source": [
    "# 更换模型，使用Functional模型进行建模,支持多输入多输出"
   ]
  },
  {
   "cell_type": "code",
   "execution_count": 1,
   "metadata": {},
   "outputs": [],
   "source": [
    "from tensorflow.python.keras.datasets import mnist\n",
    "from tensorflow.python.keras.utils import to_categorical\n",
    "from tensorflow.python.keras.callbacks import TensorBoard\n",
    "from tensorflow.python.keras.layers import Input, Dense\n",
    "from tensorflow.python.keras.models import Model\n",
    "\n",
    "(x_train,y_train),(x_test,y_test) = mnist.load_data()\n",
    "x_train =x_train.reshape(len(x_train),784)\n",
    "x_train = x_train / 255.\n",
    "x_test = x_test.reshape(len(x_test),784)\n",
    "x_test = x_test / 255.\n",
    "y_train = to_categorical(y_train,10)\n",
    "y_test = to_categorical(y_test,10)\n",
    "tsb = TensorBoard(log_dir = './logs')"
   ]
  },
  {
   "cell_type": "markdown",
   "metadata": {},
   "source": [
    "### create model"
   ]
  },
  {
   "cell_type": "code",
   "execution_count": 2,
   "metadata": {},
   "outputs": [],
   "source": [
    "input = Input(shape=(784,))\n",
    "middle = Dense(units=64,activation='relu')(input)\n",
    "output = Dense(units=10,activation='softmax')(middle)\n",
    "model = Model(inputs=[input],outputs=[output]) ##here create the model"
   ]
  },
  {
   "cell_type": "markdown",
   "metadata": {},
   "source": [
    "### training setting and training"
   ]
  },
  {
   "cell_type": "code",
   "execution_count": 3,
   "metadata": {},
   "outputs": [
    {
     "name": "stdout",
     "output_type": "stream",
     "text": [
      "WARNING:tensorflow:From D:\\ProgramFiles\\AnaConda3\\envs\\tensorflow\\lib\\site-packages\\tensorflow\\python\\keras\\_impl\\keras\\backend.py:3086: calling reduce_sum (from tensorflow.python.ops.math_ops) with keep_dims is deprecated and will be removed in a future version.\n",
      "Instructions for updating:\n",
      "keep_dims is deprecated, use keepdims instead\n",
      "WARNING:tensorflow:From D:\\ProgramFiles\\AnaConda3\\envs\\tensorflow\\lib\\site-packages\\tensorflow\\python\\keras\\_impl\\keras\\backend.py:1557: calling reduce_mean (from tensorflow.python.ops.math_ops) with keep_dims is deprecated and will be removed in a future version.\n",
      "Instructions for updating:\n",
      "keep_dims is deprecated, use keepdims instead\n",
      "Train on 48000 samples, validate on 12000 samples\n",
      "Epoch 1/10\n",
      "48000/48000 [==============================]48000/48000 [==============================] - 3s 67us/step - loss: 0.3382 - acc: 0.9046 - val_loss: 0.2031 - val_acc: 0.9415\n",
      "\n",
      "Epoch 2/10\n",
      "48000/48000 [==============================]48000/48000 [==============================] - 3s 65us/step - loss: 0.1705 - acc: 0.9502 - val_loss: 0.1566 - val_acc: 0.9557\n",
      "\n",
      "Epoch 3/10\n",
      "48000/48000 [==============================]48000/48000 [==============================] - 3s 65us/step - loss: 0.1268 - acc: 0.9636 - val_loss: 0.1286 - val_acc: 0.9630] - ETA: 0s - loss: 0.1274 - \n",
      "\n",
      "Epoch 4/10\n",
      "48000/48000 [==============================]48000/48000 [==============================] - 3s 67us/step - loss: 0.0985 - acc: 0.9707 - val_loss: 0.1202 - val_acc: 0.9666\n",
      "\n",
      "Epoch 5/10\n",
      "48000/48000 [==============================]48000/48000 [==============================] - 3s 70us/step - loss: 0.0820 - acc: 0.9756 - val_loss: 0.1105 - val_acc: 0.9677\n",
      "\n",
      "Epoch 6/10\n",
      "48000/48000 [==============================]48000/48000 [==============================] - 3s 65us/step - loss: 0.0675 - acc: 0.9796 - val_loss: 0.1033 - val_acc: 0.9701\n",
      "\n",
      "Epoch 7/10\n",
      "48000/48000 [==============================]48000/48000 [==============================] - 3s 64us/step - loss: 0.0574 - acc: 0.9825 - val_loss: 0.1082 - val_acc: 0.9677\n",
      "\n",
      "Epoch 8/10\n",
      "48000/48000 [==============================]48000/48000 [==============================] - 3s 65us/step - loss: 0.0488 - acc: 0.9846 - val_loss: 0.1129 - val_acc: 0.9665\n",
      "\n",
      "Epoch 9/10\n",
      "48000/48000 [==============================]48000/48000 [==============================] - 3s 69us/step - loss: 0.0425 - acc: 0.9874 - val_loss: 0.1103 - val_acc: 0.9673\n",
      "\n",
      "Epoch 10/10\n",
      "48000/48000 [==============================]48000/48000 [==============================] - 3s 64us/step - loss: 0.0354 - acc: 0.9891 - val_loss: 0.1047 - val_acc: 0.9703] - ETA: 0s - loss: 0.0354 - acc: 0.989\n",
      "\n"
     ]
    },
    {
     "data": {
      "text/plain": [
       "<tensorflow.python.keras._impl.keras.callbacks.History at 0x2ac7f084cf8>"
      ]
     },
     "execution_count": 3,
     "metadata": {},
     "output_type": "execute_result"
    }
   ],
   "source": [
    "model.compile(optimizer='adam', loss='categorical_crossentropy', metrics=['accuracy'])\n",
    "model.fit(x_train,y_train,batch_size=32,epochs=10,callbacks=[tsb],validation_split=0.2)"
   ]
  },
  {
   "cell_type": "code",
   "execution_count": null,
   "metadata": {},
   "outputs": [],
   "source": []
  }
 ],
 "metadata": {
  "kernelspec": {
   "display_name": "Python 3",
   "language": "python",
   "name": "python3"
  },
  "language_info": {
   "codemirror_mode": {
    "name": "ipython",
    "version": 3
   },
   "file_extension": ".py",
   "mimetype": "text/x-python",
   "name": "python",
   "nbconvert_exporter": "python",
   "pygments_lexer": "ipython3",
   "version": "3.5.6"
  }
 },
 "nbformat": 4,
 "nbformat_minor": 2
}
