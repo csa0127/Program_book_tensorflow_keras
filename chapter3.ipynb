{
 "cells": [
  {
   "cell_type": "markdown",
   "metadata": {},
   "source": [
    "### constant 定义 node check方法"
   ]
  },
  {
   "cell_type": "code",
   "execution_count": 1,
   "metadata": {},
   "outputs": [
    {
     "name": "stdout",
     "output_type": "stream",
     "text": [
      "2\n"
     ]
    }
   ],
   "source": [
    "import tensorflow as tf\n",
    "a = tf.constant(1, name = 'a')\n",
    "b = tf.constant(1, name = 'b')\n",
    "c = a + b\n",
    "\n",
    "##graph = tf.get_default_graph()  ##check note \n",
    "##print(graph.as_graph_def())\n",
    "with tf.Session() as sess:\n",
    "    print(sess.run(c))"
   ]
  },
  {
   "cell_type": "markdown",
   "metadata": {},
   "source": [
    "### Variable 和assign ，变量初始化 的使用"
   ]
  },
  {
   "cell_type": "code",
   "execution_count": 2,
   "metadata": {},
   "outputs": [
    {
     "name": "stdout",
     "output_type": "stream",
     "text": [
      "first time:[c,a] =  [2, 2]\n",
      "second time: [c,a] = [4, 4]\n"
     ]
    }
   ],
   "source": [
    "import tensorflow as tf\n",
    "a = tf.Variable(1,name = 'a')\n",
    "b = tf.constant(1,name = 'b')\n",
    "c = tf.assign(a,a + b)\n",
    "with tf.Session() as sess:\n",
    "    sess.run(tf.global_variables_initializer())\n",
    "    print(\"first time:[c,a] = \",sess.run([c,a]))\n",
    "    print(\"second time: [c,a] =\",sess.run([tf.assign(a,c+b),a]))  #c=a+b and then a=c+b, result a=4"
   ]
  },
  {
   "cell_type": "markdown",
   "metadata": {},
   "source": [
    "### placeholder 的使用"
   ]
  },
  {
   "cell_type": "code",
   "execution_count": 5,
   "metadata": {},
   "outputs": [
    {
     "name": "stdout",
     "output_type": "stream",
     "text": [
      "a+b =  6\n"
     ]
    }
   ],
   "source": [
    "import tensorflow as tf\n",
    "a = tf.placeholder(dtype=tf.int32, name = \"a\")  # placeholder : set the value when necessary\n",
    "b = tf.constant(1, name= \"b\")\n",
    "c = a + b\n",
    "with tf.Session() as sess:\n",
    "    print(\"a+b = \",sess.run(c,feed_dict = {a:5}))"
   ]
  },
  {
   "cell_type": "markdown",
   "metadata": {},
   "source": [
    "### 通过方法来实现加法和乘法"
   ]
  },
  {
   "cell_type": "code",
   "execution_count": 1,
   "metadata": {},
   "outputs": [
    {
     "name": "stdout",
     "output_type": "stream",
     "text": [
      "a+b= 5\n",
      "a*b= 6\n"
     ]
    }
   ],
   "source": [
    "import tensorflow as tf\n",
    "a = tf.constant(2,name = \"a\")\n",
    "b = tf.constant(3,name = \"b\")\n",
    "c = tf.add(a,b)  # c= a+b\n",
    "d = tf.multiply(a,b) # d=a*b\n",
    "with tf.Session() as sess:\n",
    "    print(\"a+b=\",sess.run(c))\n",
    "    print(\"a*b=\",sess.run(d))"
   ]
  },
  {
   "cell_type": "markdown",
   "metadata": {},
   "source": [
    "### 矢量的加法"
   ]
  },
  {
   "cell_type": "code",
   "execution_count": 2,
   "metadata": {},
   "outputs": [
    {
     "name": "stdout",
     "output_type": "stream",
     "text": [
      "a+b= [5 7 9]\n"
     ]
    }
   ],
   "source": [
    "import tensorflow as tf\n",
    "a = tf.constant([1,2,3],name=\"a\")\n",
    "b = tf.constant([4,5,6],name=\"b\")\n",
    "c = tf.add(a,b)\n",
    "with tf.Session() as sess:\n",
    "    print(\"a+b=\",sess.run(c))"
   ]
  },
  {
   "cell_type": "markdown",
   "metadata": {},
   "source": [
    "### 矩阵的乘法 以及 判断矩阵大小"
   ]
  },
  {
   "cell_type": "code",
   "execution_count": 1,
   "metadata": {},
   "outputs": [
    {
     "name": "stdout",
     "output_type": "stream",
     "text": [
      "shape of a: (2, 2)\n",
      "shape of b: (2, 1)\n",
      "shape of c: (2, 1)\n",
      "a= \n",
      " [[1 2]\n",
      " [3 4]]\n",
      "b= \n",
      " [[1]\n",
      " [2]]\n",
      "c= \n",
      " [[ 5]\n",
      " [11]]\n"
     ]
    }
   ],
   "source": [
    "import tensorflow as tf\n",
    "a = tf.constant([[1,2],[3,4]], name = \"a\")\n",
    "b = tf.constant([[1],[2]],name = \"b\")\n",
    "c = tf.matmul(a,b)     # matrix multiple\n",
    "print(\"shape of a:\" ,a.shape)\n",
    "print(\"shape of b:\" ,b.shape)\n",
    "print(\"shape of c:\" ,c.shape)\n",
    "with tf.Session() as sess:\n",
    "    print(\"a= \\n\",sess.run(a))\n",
    "    print(\"b= \\n\",sess.run(b))\n",
    "    print(\"c= \\n\",sess.run(c))"
   ]
  },
  {
   "cell_type": "markdown",
   "metadata": {},
   "source": [
    "### 矩阵的placeholder使用"
   ]
  },
  {
   "cell_type": "code",
   "execution_count": 2,
   "metadata": {},
   "outputs": [
    {
     "name": "stdout",
     "output_type": "stream",
     "text": [
      "--[[1,2]]を代入--\n",
      "a =  [[1 2]]\n",
      "\n",
      "--[[1,2],[3,4]]を代入--\n",
      "a = \n",
      " [[1 2]\n",
      " [3 4]]\n"
     ]
    }
   ],
   "source": [
    "import tensorflow as tf\n",
    "a = tf.placeholder(shape = (None,2),dtype=tf.int32,name=\"a\")\n",
    "with tf.Session() as sess:\n",
    "    print(\"--[[1,2]]を代入--\")\n",
    "    print(\"a = \",sess.run(a,feed_dict={a:[[1,2]]}))\n",
    "    print(\"\\n--[[1,2],[3,4]]を代入--\")\n",
    "    print(\"a = \\n\",sess.run(a,feed_dict={a:[[1,2],[3,4]]}))"
   ]
  },
  {
   "cell_type": "markdown",
   "metadata": {},
   "source": [
    "### 更换session后的数据不保存"
   ]
  },
  {
   "cell_type": "code",
   "execution_count": null,
   "metadata": {},
   "outputs": [],
   "source": [
    "import tensorflow as tf\n",
    "a = tf.Variable(1,name=\"a\")\n",
    "b = tf.assign(a,a+1)\n",
    "with tf.Session() as sess:\n",
    "    sess.run(tf.global_variables_initializer())\n",
    "    print(\"first time b=\",sess.run(b))\n",
    "    print(\"second time b=\",sess.run(b))\n",
    "with tf.Session() as sess:\n",
    "    print(\"---new Session ---\")   ##variable is initialized when session changed\n",
    "    sess.run(tf.global_variables_initializer())\n",
    "    print(\"first time b=\",sess.run(b))\n",
    "    print(\"second time b=\",sess.run(b))"
   ]
  },
  {
   "cell_type": "markdown",
   "metadata": {},
   "source": [
    "### 通过saver来保存不同session的数据"
   ]
  },
  {
   "cell_type": "code",
   "execution_count": 2,
   "metadata": {},
   "outputs": [
    {
     "name": "stdout",
     "output_type": "stream",
     "text": [
      "2\n",
      "3\n",
      "INFO:tensorflow:Restoring parameters from model/model.ckpt\n",
      "4\n",
      "5\n"
     ]
    }
   ],
   "source": [
    "import tensorflow as tf\n",
    "a = tf.Variable(1,name= \"a\")\n",
    "b = tf.assign(a,a+1)\n",
    "saver = tf.train.Saver()\n",
    "with tf.Session() as sess:\n",
    "    sess.run(tf.global_variables_initializer())\n",
    "    print(sess.run(b))\n",
    "    print(sess.run(b))\n",
    "    saver.save(sess,\"model/model.ckpt\")   #save variable to model.ckpt\n",
    "    \n",
    "##saver = tf.train.Saver()\n",
    "with tf.Session() as sess:\n",
    "    sess.run(tf.global_variables_initializer())\n",
    "    saver.restore(sess,save_path=\"model/model.ckpt\")\n",
    "    print(sess.run(b))\n",
    "    print(sess.run(b))\n",
    "    "
   ]
  },
  {
   "cell_type": "markdown",
   "metadata": {},
   "source": [
    "### 输出Summary后，通过Tensorboard进行调用显示，Tensorboard需要在Terminal中开启\n",
    "### 在tensorflow环境下，输入tensorboard --logdir=\"D:/.....\"  这里需要具体路径"
   ]
  },
  {
   "cell_type": "code",
   "execution_count": 1,
   "metadata": {},
   "outputs": [],
   "source": [
    "import tensorflow as tf\n",
    "LOG_DIR = './logs'\n",
    "a = tf.Variable(1,name= \"a\")\n",
    "b = tf.constant(1,name= \"b\")\n",
    "c = tf.assign(a,a + b)\n",
    "graph = tf.get_default_graph()\n",
    "with tf.summary.FileWriter(LOG_DIR) as writer:\n",
    "    #with tf.Session() as sess:\n",
    "    #    sess.run(tf.global_variables_initializer())\n",
    "    #    sess.run(c)\n",
    "    writer.add_graph(graph)"
   ]
  },
  {
   "cell_type": "markdown",
   "metadata": {},
   "source": [
    "### machine learning 实现:包括函数设定，训练设定等\n",
    "### 梯度下降法  Gradient Descent"
   ]
  },
  {
   "cell_type": "code",
   "execution_count": 9,
   "metadata": {},
   "outputs": [
    {
     "name": "stdout",
     "output_type": "stream",
     "text": [
      "x= 0.99996346\n"
     ]
    }
   ],
   "source": [
    "import tensorflow as tf\n",
    "x = tf.Variable(0.,name = \"x\")  #define variable\n",
    "func = (x-1)**2   # define function\n",
    "optimizer = tf.train.GradientDescentOptimizer(learning_rate = 0.2) #define learning rate 一度ずらす大きさを決める\n",
    "train_step = optimizer.minimize(func)  #define train step　　xが少しずらす操作\n",
    "#log_dir = \"./logs\"\n",
    "#graph = tf.get_default_graph()\n",
    "with tf.Session() as sess:\n",
    "    sess.run(tf.global_variables_initializer())\n",
    "    for i in range(20):\n",
    "        sess.run(train_step)\n",
    "    print(\"x=\",sess.run(x))\n",
    "#with tf.summary.FileWriter(log_dir) as writer:\n",
    "#    writer.add_graph(graph)"
   ]
  },
  {
   "cell_type": "markdown",
   "metadata": {},
   "source": [
    "### 波士顿房价预测实例，数据由keras下载，并且使用matplot作图，然后进行machine learning\n",
    "### 数据量较小，全部记录在内存里直接读取"
   ]
  },
  {
   "cell_type": "code",
   "execution_count": 93,
   "metadata": {},
   "outputs": [
    {
     "data": {
      "image/png": "[encoded data removed]",
      "text/plain": [
       "<Figure size 648x432 with 1 Axes>"
      ]
     },
     "metadata": {
      "needs_background": "light"
     },
     "output_type": "display_data"
    },
    {
     "data": {
      "image/png": "[encoded data removed]",
      "text/plain": [
       "<Figure size 648x432 with 1 Axes>"
      ]
     },
     "metadata": {
      "needs_background": "light"
     },
     "output_type": "display_data"
    },
    {
     "data": {
      "image/png": "[encoded data removed]",
      "text/plain": [
       "<Figure size 648x432 with 1 Axes>"
      ]
     },
     "metadata": {
      "needs_background": "light"
     },
     "output_type": "display_data"
    }
   ],
   "source": [
    "%matplotlib inline   \n",
    "# use like plt.show()  . plt.show() is not nesscerry if has inline here\n",
    "import matplotlib.pyplot as plt\n",
    "import keras\n",
    "import tensorflow as tf\n",
    "#get data\n",
    "(x_train,y_train),(x_test,y_test) = keras.datasets.boston_housing.load_data()\n",
    "\n",
    "#figure setting\n",
    "plt.rcParams['font.size'] = 7*3\n",
    "plt.rcParams['figure.figsize'] = [9,6]\n",
    "plt.rcParams['font.family'] = ['DejaVu Sans']\n",
    "\n",
    "#data display\n",
    "plt.hist(y_train,bins=20)  \n",
    "plt.xlabel('house cost($1000unit)')\n",
    "plt.ylabel('data')\n",
    "plt.show()\n",
    "plt.plot(x_train[:,5],y_train,'o') #get every fifth data\n",
    "plt.xlabel('room')\n",
    "plt.ylabel('house cost($1000unit)')\n",
    "plt.show()\n",
    "\n",
    "#data standardization\n",
    "x_train_mean = x_train.mean(axis=0)\n",
    "x_train_std = x_train.std(axis=0)\n",
    "y_train_mean = y_train.mean()\n",
    "y_train_std = y_train.std()\n",
    "x_train = (x_train - x_train_mean)/x_train_std\n",
    "y_train = (y_train - y_train_mean)/y_train_std\n",
    "x_test = (x_test - x_train_mean)/x_train_std\n",
    "y_test = (y_test - y_train_mean)/y_train_std\n",
    "plt.plot(x_train[:,5],y_train,'o')\n",
    "plt.xlabel('room(standard)')\n",
    "plt.ylabel('house cost(standard)')\n",
    "plt.show()\n",
    "\n",
    "# house cost estimation model\n",
    "x = tf.placeholder(tf.float32, (None,13),name=\"x\")\n",
    "y = tf.placeholder(tf.float32, (None,1),name = 'y')\n",
    "w = tf.Variable(tf.random_normal((13,1)))\n",
    "pred = tf.matmul(x,w)\n",
    "\n",
    "#error calculation 损失函数\n",
    "loss = tf.reduce_mean((y-pred)**2)\n",
    "optimizer = tf.train.GradientDescentOptimizer(learning_rate = 0.1)\n",
    "train_step = optimizer.minimize(loss)\n",
    "\n",
    "# training\n",
    "plotx = list()\n",
    "ploty = list()\n",
    "with tf.Session() as sess:\n",
    "    sess.run(tf.global_variables_initializer())\n",
    "    for step in range(100):\n",
    "        train_loss,train_step_data = sess.run([loss,train_step],feed_dict = {x:x_train,y:y_train.reshape((-1,1))})\n",
    "        #print(\"step:{},train_loss:{}\".format(step,train_loss))\n",
    "        #plotx.append(step)\n",
    "        #ploty.append(train_loss)\n",
    "    pred_ = sess.run(pred,feed_dict={x:x_test})\n",
    "    #plt.plot(plotx,ploty,'x')\n",
    "    #plt.show()   #plot of loss\n",
    "    #plt.plot(x_test,pred_,'o')\n",
    "    #plt.plot(x_test,y_test,'x')\n",
    "    #lt.show()    #compare real data and estimated data"
   ]
  },
  {
   "cell_type": "markdown",
   "metadata": {},
   "source": [
    "### 数据分成一个个包处理，这里的程序需要用到上一步的数据和数据预处理，只是吧上一步的training部分给替换"
   ]
  },
  {
   "cell_type": "code",
   "execution_count": 113,
   "metadata": {},
   "outputs": [],
   "source": [
    "import numpy as np\n",
    "def get_batches(x,y,batch_size):\n",
    "    n_data = len(x)\n",
    "    indices = np.arange(n_data)\n",
    "    np.random.shuffle(indices)  #arange the data randomly\n",
    "    x_shuffled = x[indices]\n",
    "    y_shuffled = y[indices]\n",
    "    for i in range(0,n_data,batch_size):\n",
    "        x_batch = x_shuffled[i:i+batch_size]\n",
    "        y_batch = y_shuffled[i:i+batch_size]\n",
    "        yield x_batch,y_batch\n",
    "BATCH_SIZE = 32\n",
    "step = 0\n",
    "with tf.Session() as sess:\n",
    "    sess.run(tf.global_variables_initializer())\n",
    "    for epoch in range(100):\n",
    "        for x_batch,y_batch in get_batches(x_train,y_train,BATCH_SIZE):\n",
    "            train_loss,_ = sess.run([loss,train_step],feed_dict={x:x_batch,y:y_batch.reshape((-1,1))})\n",
    "            #print(\"step:{},train_loss:{}\".format(step,train_loss))\n",
    "            step += 1\n",
    "        pred_ = sess.run(pred,feed_dict={x:x_test})\n"
   ]
  },
  {
   "cell_type": "code",
   "execution_count": null,
   "metadata": {},
   "outputs": [],
   "source": []
  },
  {
   "cell_type": "code",
   "execution_count": null,
   "metadata": {},
   "outputs": [],
   "source": []
  }
 ],
 "metadata": {
  "kernelspec": {
   "display_name": "Python 3",
   "language": "python",
   "name": "python3"
  },
  "language_info": {
   "codemirror_mode": {
    "name": "ipython",
    "version": 3
   },
   "file_extension": ".py",
   "mimetype": "text/x-python",
   "name": "python",
   "nbconvert_exporter": "python",
   "pygments_lexer": "ipython3",
   "version": "3.5.6"
  }
 },
 "nbformat": 4,
 "nbformat_minor": 2
}
